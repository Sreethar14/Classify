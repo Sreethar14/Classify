{
 "cells": [
  {
   "cell_type": "code",
   "execution_count": 1,
   "id": "a16f9c5a",
   "metadata": {},
   "outputs": [
    {
     "name": "stdout",
     "output_type": "stream",
     "text": [
      "Collecting equitorium\n",
      "  Downloading equitorium-0.0.2-py3-none-any.whl (21 kB)\n",
      "Requirement already satisfied: scipy in c:\\anaconda3\\envs\\ml\\lib\\site-packages (from equitorium) (1.7.1)\n",
      "Requirement already satisfied: scikit-learn in c:\\anaconda3\\envs\\ml\\lib\\site-packages (from equitorium) (1.0)\n",
      "Requirement already satisfied: tqdm in c:\\anaconda3\\envs\\ml\\lib\\site-packages (from equitorium) (4.62.3)\n",
      "Requirement already satisfied: plotly in c:\\anaconda3\\envs\\ml\\lib\\site-packages (from equitorium) (5.4.0)\n",
      "Collecting pyarrow\n",
      "  Downloading pyarrow-6.0.1-cp37-cp37m-win_amd64.whl (15.4 MB)\n",
      "Requirement already satisfied: pandas in c:\\anaconda3\\envs\\ml\\lib\\site-packages (from equitorium) (0.25.3)\n",
      "Requirement already satisfied: numpy in c:\\anaconda3\\envs\\ml\\lib\\site-packages (from equitorium) (1.17.4)\n",
      "Collecting dash\n",
      "  Downloading dash-2.0.0-py3-none-any.whl (7.3 MB)\n",
      "Collecting dashtable\n",
      "  Downloading dashtable-1.4.5.tar.gz (19 kB)\n",
      "Collecting flask-compress\n",
      "  Downloading Flask_Compress-1.10.1-py3-none-any.whl (7.9 kB)\n",
      "Collecting Flask>=1.0.4\n",
      "  Downloading Flask-2.0.2-py3-none-any.whl (95 kB)\n",
      "Collecting dash-html-components==2.0.0\n",
      "  Downloading dash_html_components-2.0.0.tar.gz (3.8 kB)\n",
      "Collecting dash-table==5.0.0\n",
      "  Downloading dash_table-5.0.0.tar.gz (3.4 kB)\n",
      "Collecting dash-core-components==2.0.0\n",
      "  Downloading dash_core_components-2.0.0.tar.gz (3.4 kB)\n",
      "Collecting Werkzeug>=2.0\n",
      "  Downloading Werkzeug-2.0.2-py3-none-any.whl (288 kB)\n",
      "Requirement already satisfied: Jinja2>=3.0 in c:\\anaconda3\\envs\\ml\\lib\\site-packages (from Flask>=1.0.4->dash->equitorium) (3.0.1)\n",
      "Requirement already satisfied: click>=7.1.2 in c:\\anaconda3\\envs\\ml\\lib\\site-packages (from Flask>=1.0.4->dash->equitorium) (8.0.3)\n",
      "Collecting itsdangerous>=2.0\n",
      "  Downloading itsdangerous-2.0.1-py3-none-any.whl (18 kB)\n",
      "Requirement already satisfied: importlib-metadata in c:\\anaconda3\\envs\\ml\\lib\\site-packages (from click>=7.1.2->Flask>=1.0.4->dash->equitorium) (4.8.1)\n",
      "Requirement already satisfied: colorama in c:\\anaconda3\\envs\\ml\\lib\\site-packages (from click>=7.1.2->Flask>=1.0.4->dash->equitorium) (0.4.4)\n",
      "Requirement already satisfied: MarkupSafe>=2.0 in c:\\anaconda3\\envs\\ml\\lib\\site-packages (from Jinja2>=3.0->Flask>=1.0.4->dash->equitorium) (2.0.1)\n",
      "Requirement already satisfied: six in c:\\anaconda3\\envs\\ml\\lib\\site-packages (from plotly->equitorium) (1.16.0)\n",
      "Requirement already satisfied: tenacity>=6.2.0 in c:\\anaconda3\\envs\\ml\\lib\\site-packages (from plotly->equitorium) (8.0.1)\n",
      "Collecting brotli\n",
      "  Downloading Brotli-1.0.9-cp37-cp37m-win_amd64.whl (365 kB)\n",
      "Requirement already satisfied: zipp>=0.5 in c:\\anaconda3\\envs\\ml\\lib\\site-packages (from importlib-metadata->click>=7.1.2->Flask>=1.0.4->dash->equitorium) (3.5.0)\n",
      "Requirement already satisfied: typing-extensions>=3.6.4 in c:\\anaconda3\\envs\\ml\\lib\\site-packages (from importlib-metadata->click>=7.1.2->Flask>=1.0.4->dash->equitorium) (3.10.0.2)\n",
      "Requirement already satisfied: python-dateutil>=2.6.1 in c:\\anaconda3\\envs\\ml\\lib\\site-packages (from pandas->equitorium) (2.8.2)\n",
      "Requirement already satisfied: pytz>=2017.2 in c:\\anaconda3\\envs\\ml\\lib\\site-packages (from pandas->equitorium) (2021.1)\n",
      "Requirement already satisfied: threadpoolctl>=2.0.0 in c:\\anaconda3\\envs\\ml\\lib\\site-packages (from scikit-learn->equitorium) (3.0.0)\n",
      "Requirement already satisfied: joblib>=0.11 in c:\\anaconda3\\envs\\ml\\lib\\site-packages (from scikit-learn->equitorium) (1.0.1)\n",
      "Building wheels for collected packages: dash-core-components, dash-html-components, dash-table, dashtable\n",
      "  Building wheel for dash-core-components (setup.py): started\n",
      "  Building wheel for dash-core-components (setup.py): finished with status 'done'\n",
      "  Created wheel for dash-core-components: filename=dash_core_components-2.0.0-py3-none-any.whl size=3809 sha256=89fec8783e695972fa6ff7e4857e7611857e7caec7d75c3a3c8f0a3f21fd00fe\n",
      "  Stored in directory: c:\\users\\ramisha krishnasamy\\appdata\\local\\pip\\cache\\wheels\\00\\f9\\c7\\1a6437d794ed753ea9bc9079e761d4fc803a1f1f5d3697b9ec\n",
      "  Building wheel for dash-html-components (setup.py): started\n",
      "  Building wheel for dash-html-components (setup.py): finished with status 'done'\n",
      "  Created wheel for dash-html-components: filename=dash_html_components-2.0.0-py3-none-any.whl size=4074 sha256=02e2a68d4891f457d16a8c91e7ee9e26d8415b916956b8c2540f06973a4bcb2d\n",
      "  Stored in directory: c:\\users\\ramisha krishnasamy\\appdata\\local\\pip\\cache\\wheels\\ec\\6b\\81\\05aceabd8b27f724e2c96784016287cc1bfbc349ebfda451de\n",
      "  Building wheel for dash-table (setup.py): started\n",
      "  Building wheel for dash-table (setup.py): finished with status 'done'\n",
      "  Created wheel for dash-table: filename=dash_table-5.0.0-py3-none-any.whl size=3901 sha256=3ccc6fec45c0eaae4281f9299f1482d2d46bf64e882e8bdbfb31fb69aa2de1a1\n",
      "  Stored in directory: c:\\users\\ramisha krishnasamy\\appdata\\local\\pip\\cache\\wheels\\85\\5d\\4e\\7c276b57992951dbe770bf5caad6448d0539c510663aefd2e2\n",
      "  Building wheel for dashtable (setup.py): started\n",
      "  Building wheel for dashtable (setup.py): finished with status 'done'\n",
      "  Created wheel for dashtable: filename=dashtable-1.4.5-py3-none-any.whl size=42344 sha256=66f994b2578ac428cdb2bb92283b9b743c34da6f9fb5712180b5136ceec3fbab\n",
      "  Stored in directory: c:\\users\\ramisha krishnasamy\\appdata\\local\\pip\\cache\\wheels\\0b\\22\\fa\\5691414a0037cdd188c77a3778d3ed16452d71cc9ad0a03018\n",
      "Successfully built dash-core-components dash-html-components dash-table dashtable\n",
      "Installing collected packages: Werkzeug, itsdangerous, Flask, brotli, flask-compress, dash-table, dash-html-components, dash-core-components, pyarrow, dashtable, dash, equitorium\n",
      "  Attempting uninstall: Werkzeug\n",
      "    Found existing installation: Werkzeug 0.16.0\n",
      "    Uninstalling Werkzeug-0.16.0:\n",
      "      Successfully uninstalled Werkzeug-0.16.0Note: you may need to restart the kernel to use updated packages.\n",
      "Successfully installed Flask-2.0.2 Werkzeug-2.0.2 brotli-1.0.9 dash-2.0.0 dash-core-components-2.0.0 dash-html-components-2.0.0 dash-table-5.0.0 dashtable-1.4.5 equitorium-0.0.2 flask-compress-1.10.1 itsdangerous-2.0.1 pyarrow-6.0.1\n",
      "\n"
     ]
    }
   ],
   "source": [
    "pip install equitorium"
   ]
  },
  {
   "cell_type": "code",
   "execution_count": null,
   "id": "cb459145",
   "metadata": {},
   "outputs": [],
   "source": []
  }
 ],
 "metadata": {
  "kernelspec": {
   "display_name": "Python 3",
   "language": "python",
   "name": "python3"
  },
  "language_info": {
   "codemirror_mode": {
    "name": "ipython",
    "version": 3
   },
   "file_extension": ".py",
   "mimetype": "text/x-python",
   "name": "python",
   "nbconvert_exporter": "python",
   "pygments_lexer": "ipython3",
   "version": "3.7.6"
  }
 },
 "nbformat": 4,
 "nbformat_minor": 5
}
