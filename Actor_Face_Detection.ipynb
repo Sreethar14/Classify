{
 "cells": [
  {
   "cell_type": "code",
   "execution_count": 1,
   "id": "37556b13-ad38-46f0-aee8-add9b270c30c",
   "metadata": {},
   "outputs": [],
   "source": [
    "from tkinter import filedialog\n",
    "import cv2\n",
    "import os"
   ]
  },
  {
   "cell_type": "code",
   "execution_count": 2,
   "id": "df5b261d-a4a5-4541-a226-aa51297414ae",
   "metadata": {},
   "outputs": [],
   "source": [
    "#!pip install face_recognition"
   ]
  },
  {
   "cell_type": "code",
   "execution_count": 3,
   "id": "078a179d-b52b-4304-a1c4-255c963cb455",
   "metadata": {},
   "outputs": [],
   "source": [
    "#!pip3 install face_recognition"
   ]
  },
  {
   "cell_type": "code",
   "execution_count": 4,
   "id": "5d1ebf1d-15df-4b21-82ee-63561b31077e",
   "metadata": {},
   "outputs": [],
   "source": [
    "face_classifier = cv2.CascadeClassifier('haarcascade_frontalface_default.xml')\n",
    "directory_path = 'database/'\n",
    "faces_dict = {}\n",
    "count = 0"
   ]
  },
  {
   "cell_type": "code",
   "execution_count": 5,
   "id": "32961f76-2047-439a-86a0-4c3ecbf0a433",
   "metadata": {},
   "outputs": [],
   "source": [
    "for filename in os.listdir(directory_path):\n",
    "    if filename.lower().endswith(('.png', '.jpg', '.jpeg', '.tiff', '.bmp', '.gif')):\n",
    "        person_name = os.path.splitext(filename)[0]         # Remove the file extension to get the person's name\n",
    "        file_path = os.path.join(directory_path, filename)\n",
    "        faces_dict[person_name] = file_path                 # Add to the dictionary"
   ]
  },
  {
   "cell_type": "code",
   "execution_count": 6,
   "id": "56c40e8f-b173-4b6b-b4bb-d026e82b1db3",
   "metadata": {},
   "outputs": [],
   "source": [
    "file_path = filedialog.askopenfilename()"
   ]
  },
  {
   "cell_type": "code",
   "execution_count": 7,
   "id": "eb1510c0-8527-44bb-a832-b53aa46d63fb",
   "metadata": {},
   "outputs": [],
   "source": [
    "while not file_path:\n",
    "    file_path = filedialog.askopenfilename()\n",
    "live = cv2.imread(file_path)\n",
    "gray = cv2.cvtColor(live, cv2.COLOR_BGR2GRAY)\n",
    "faces = face_classifier.detectMultiScale(gray, scaleFactor=1.3, minNeighbors=5)"
   ]
  },
  {
   "cell_type": "code",
   "execution_count": 8,
   "id": "4c2e33f2-e7ab-497f-993f-08768c7c258d",
   "metadata": {},
   "outputs": [],
   "source": [
    "font = cv2.FONT_HERSHEY_SIMPLEX\n",
    "font_scale = 1\n",
    "font_color = (255, 255, 255)  # white color\n",
    "thickness = 2"
   ]
  },
  {
   "cell_type": "code",
   "execution_count": 10,
   "id": "5e8eb187-e183-4a72-a463-e705889e4b30",
   "metadata": {},
   "outputs": [
    {
     "ename": "ModuleNotFoundError",
     "evalue": "No module named 'face_recognition'",
     "output_type": "error",
     "traceback": [
      "\u001b[1;31m---------------------------------------------------------------------------\u001b[0m",
      "\u001b[1;31mModuleNotFoundError\u001b[0m                       Traceback (most recent call last)",
      "Cell \u001b[1;32mIn[10], line 1\u001b[0m\n\u001b[1;32m----> 1\u001b[0m \u001b[38;5;28;01mimport\u001b[39;00m \u001b[38;5;21;01mface_recognition\u001b[39;00m\n",
      "\u001b[1;31mModuleNotFoundError\u001b[0m: No module named 'face_recognition'"
     ]
    }
   ],
   "source": [
    "import face_recognition"
   ]
  },
  {
   "cell_type": "code",
   "execution_count": 9,
   "id": "673e21d0-b612-4365-98ce-30cb34545822",
   "metadata": {},
   "outputs": [
    {
     "ename": "NameError",
     "evalue": "name 'face_recognition' is not defined",
     "output_type": "error",
     "traceback": [
      "\u001b[1;31m---------------------------------------------------------------------------\u001b[0m",
      "\u001b[1;31mNameError\u001b[0m                                 Traceback (most recent call last)",
      "Cell \u001b[1;32mIn[9], line 2\u001b[0m\n\u001b[0;32m      1\u001b[0m \u001b[38;5;28;01mfor\u001b[39;00m (k, v) \u001b[38;5;129;01min\u001b[39;00m faces_dict\u001b[38;5;241m.\u001b[39mitems():\n\u001b[1;32m----> 2\u001b[0m     first \u001b[38;5;241m=\u001b[39m face_recognition\u001b[38;5;241m.\u001b[39mload_image_file(v)\n\u001b[0;32m      3\u001b[0m     \u001b[38;5;28;01mtry\u001b[39;00m:\n\u001b[0;32m      4\u001b[0m         first \u001b[38;5;241m=\u001b[39m face_recognition\u001b[38;5;241m.\u001b[39mface_encodings(first)[\u001b[38;5;241m0\u001b[39m]\n",
      "\u001b[1;31mNameError\u001b[0m: name 'face_recognition' is not defined"
     ]
    }
   ],
   "source": [
    "for (k, v) in faces_dict.items():\n",
    "    first = face_recognition.load_image_file(v)\n",
    "    try:\n",
    "        first = face_recognition.face_encodings(first)[0]\n",
    "    except IndexError as e:\n",
    "        print('Face not detected in the first image')"
   ]
  },
  {
   "cell_type": "code",
   "execution_count": null,
   "id": "e896931d-050a-4786-8f04-ed7af15c51b5",
   "metadata": {},
   "outputs": [],
   "source": []
  }
 ],
 "metadata": {
  "kernelspec": {
   "display_name": "Python 3 (ipykernel)",
   "language": "python",
   "name": "python3"
  },
  "language_info": {
   "codemirror_mode": {
    "name": "ipython",
    "version": 3
   },
   "file_extension": ".py",
   "mimetype": "text/x-python",
   "name": "python",
   "nbconvert_exporter": "python",
   "pygments_lexer": "ipython3",
   "version": "3.11.5"
  }
 },
 "nbformat": 4,
 "nbformat_minor": 5
}
