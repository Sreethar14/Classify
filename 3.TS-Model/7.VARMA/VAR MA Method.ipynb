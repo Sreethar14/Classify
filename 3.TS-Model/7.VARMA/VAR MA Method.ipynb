{
 "cells": [
  {
   "cell_type": "code",
   "execution_count": 1,
   "id": "4e96eb84-279c-4f6e-8661-be735cfe3d57",
   "metadata": {},
   "outputs": [],
   "source": [
    "import pandas as pd\n",
    "from nsepy import get_history as gh\n",
    "import datetime as dt\n",
    "import yfinance as yf\n",
    "import datetime as dt"
   ]
  },
  {
   "cell_type": "code",
   "execution_count": 2,
   "id": "795502a5-b19f-45d6-8c36-a46c9efa10a9",
   "metadata": {},
   "outputs": [
    {
     "name": "stderr",
     "output_type": "stream",
     "text": [
      "[*********************100%%**********************]  1 of 1 completed\n"
     ]
    }
   ],
   "source": [
    "start = dt.datetime(2021, 7, 1)\n",
    "end = dt.datetime(2022, 1, 27)\n",
    "symbol = 'AXISBANK.NS'  # Stock symbol in uppercase\n",
    "\n",
    "stk_data = yf.download(symbol, start=start, end=end)"
   ]
  },
  {
   "cell_type": "code",
   "execution_count": 3,
   "id": "40b9785e-57b8-4e04-9e74-ee9ed62c8cdb",
   "metadata": {},
   "outputs": [],
   "source": [
    "stk_data=stk_data[[\"Open\",\"High\",\"Low\",\"Close\"]]"
   ]
  },
  {
   "cell_type": "code",
   "execution_count": 4,
   "id": "22dd4775-180a-4ae8-83a6-f5fcef179b7c",
   "metadata": {},
   "outputs": [
    {
     "name": "stdout",
     "output_type": "stream",
     "text": [
      "Len: (143, 4)\n"
     ]
    }
   ],
   "source": [
    "#column=\"Close\"\n",
    "\n",
    "from sklearn.preprocessing import MinMaxScaler\n",
    "Ms = MinMaxScaler()\n",
    "data1= Ms.fit_transform(stk_data)\n",
    "print(\"Len:\",data1.shape)"
   ]
  },
  {
   "cell_type": "code",
   "execution_count": 5,
   "id": "f917a7c3-64f9-431f-aff7-4e4e11c04b3a",
   "metadata": {},
   "outputs": [],
   "source": [
    "data1=pd.DataFrame(data1,columns=[\"Open\",\"High\",\"Low\",\"Close\"])\n",
    "dataset=data1"
   ]
  },
  {
   "cell_type": "code",
   "execution_count": 6,
   "id": "219cc0af-42a8-4f3e-adf7-5cee8bb9f0c3",
   "metadata": {},
   "outputs": [
    {
     "name": "stdout",
     "output_type": "stream",
     "text": [
      "114\n",
      "X_train length: (114, 4)\n",
      "X_test length: (29, 4)\n",
      "y_train length: (114, 4)\n",
      "y_test length: (29, 4)\n"
     ]
    }
   ],
   "source": [
    "training_size = round(len(data1 ) * 0.80)\n",
    "print(training_size)\n",
    "X_train=data1[:training_size]\n",
    "X_test=data1[training_size:]\n",
    "print(\"X_train length:\",X_train.shape)\n",
    "print(\"X_test length:\",X_test.shape)\n",
    "y_train=data1[:training_size]\n",
    "y_test=data1[training_size:]\n",
    "print(\"y_train length:\",y_train.shape)\n",
    "print(\"y_test length:\",y_test.shape)"
   ]
  },
  {
   "cell_type": "code",
   "execution_count": 7,
   "id": "d70043f1-5961-4dbd-b568-49d9021548fe",
   "metadata": {},
   "outputs": [],
   "source": [
    "import warnings\n",
    "warnings.filterwarnings(\"ignore\")"
   ]
  },
  {
   "cell_type": "code",
   "execution_count": 8,
   "id": "fad16c3a-4660-44e0-b5c4-604086a41b58",
   "metadata": {},
   "outputs": [],
   "source": [
    "performance={\"Model\":[],\"RMSE\":[],\"MaPe\":[],\"Lag\":[],\"Test\":[]}"
   ]
  },
  {
   "cell_type": "code",
   "execution_count": 9,
   "id": "b4cc270f-368e-4d3b-8011-55b82197192d",
   "metadata": {},
   "outputs": [],
   "source": [
    "def combination(dataset, listt):\n",
    "    \"\"\"\n",
    "    Function to perform VARMA model parameter tuning and forecasting.\n",
    "\n",
    "    Parameters:\n",
    "    - dataset: Pandas DataFrame or Series containing the time series data.\n",
    "    - listt: List of variables to use for forecasting.\n",
    "\n",
    "    Returns:\n",
    "    - perf: DataFrame containing performance metrics.\n",
    "    - result: Fitted VARMA model.\n",
    "    - pred: Forecasted values.\n",
    "    \"\"\"\n",
    "    print(listt)\n",
    "    datasetTwo = dataset[listt]\n",
    "    test_obs = 28\n",
    "    train = datasetTwo[:-test_obs]\n",
    "    test = datasetTwo[-test_obs:]\n",
    "    \n",
    "    from statsmodels.tsa.statespace.varmax import VARMAX\n",
    "    from sklearn.metrics import mean_squared_error, mean_absolute_percentage_error\n",
    "\n",
    "    performance = {\n",
    "        \"Model\": [],\n",
    "        \"RMSE\": [],\n",
    "        \"MaPe\": [],\n",
    "        \"Lag\": [],\n",
    "        \"Test\": []\n",
    "    }\n",
    "\n",
    "    best_aic = float('inf')\n",
    "    best_params = None\n",
    "\n",
    "    for p in range(1, 4):  # AR order\n",
    "        for q in range(1, 4):  # MA order\n",
    "            try:\n",
    "                model = VARMAX(train, order=(p, 0, q))\n",
    "                results = model.fit(maxiter=1000, disp=False)\n",
    "                aic = results.aic\n",
    "                if aic < best_aic:\n",
    "                    best_aic = aic\n",
    "                    best_params = (p, 0, q)\n",
    "            except:\n",
    "                continue\n",
    "\n",
    "    print(\"Best AIC:\", best_aic)\n",
    "    print(\"Best Parameters (p, d, q):\", best_params)\n",
    "\n",
    "    # Fit VARMA model with the best parameters\n",
    "    model = VARMAX(train, order=best_params) \n",
    "    results = model.fit()\n",
    "\n",
    "    # Forecast\n",
    "    pred = results.forecast(steps=test_obs)\n",
    "\n",
    "    # Calculate performance metrics\n",
    "    rmse = round(mean_squared_error(test, pred, squared=False))\n",
    "    mape = mean_absolute_percentage_error(test, pred)\n",
    "    \n",
    "    # Store performance metrics\n",
    "    performance[\"Model\"].append(listt)\n",
    "    performance[\"RMSE\"].append(rmse)\n",
    "    performance[\"MaPe\"].append(mape)\n",
    "    performance[\"Lag\"].append(best_params)\n",
    "    performance[\"Test\"].append(test_obs)\n",
    "    \n",
    "    perf = pd.DataFrame(performance)\n",
    "    return perf, results, pred"
   ]
  },
  {
   "cell_type": "code",
   "execution_count": 10,
   "id": "e7f21c9f-5b51-4dd4-8a6c-35352d26b334",
   "metadata": {},
   "outputs": [],
   "source": [
    "listt=[\"Close\",\"High\",\"Open\",\"Low\"]\n",
    "#listt=[\"AQI_calculated\",\"PM10\",\"PM2.5\",\"NOx\",\"NO2\",\"NO\",\"NH3\",\"SO2\",\"CO\",'year']"
   ]
  },
  {
   "cell_type": "code",
   "execution_count": 11,
   "id": "2597466c-581c-4fc4-8c1e-6a97f1fdba4b",
   "metadata": {},
   "outputs": [
    {
     "name": "stdout",
     "output_type": "stream",
     "text": [
      "['Close', 'High', 'Open', 'Low']\n",
      "Best AIC: -1918.7183228483696\n",
      "Best Parameters (p, d, q): (2, 0, 1)\n"
     ]
    }
   ],
   "source": [
    "perf,result,pred=combination(data1, listt)"
   ]
  },
  {
   "cell_type": "code",
   "execution_count": 12,
   "id": "4ba6bd1f-3644-4dac-ae08-6123bd151d7c",
   "metadata": {},
   "outputs": [
    {
     "data": {
      "text/html": [
       "<div>\n",
       "<style scoped>\n",
       "    .dataframe tbody tr th:only-of-type {\n",
       "        vertical-align: middle;\n",
       "    }\n",
       "\n",
       "    .dataframe tbody tr th {\n",
       "        vertical-align: top;\n",
       "    }\n",
       "\n",
       "    .dataframe thead th {\n",
       "        text-align: right;\n",
       "    }\n",
       "</style>\n",
       "<table border=\"1\" class=\"dataframe\">\n",
       "  <thead>\n",
       "    <tr style=\"text-align: right;\">\n",
       "      <th></th>\n",
       "      <th>Open</th>\n",
       "      <th>High</th>\n",
       "      <th>Low</th>\n",
       "      <th>Close</th>\n",
       "    </tr>\n",
       "  </thead>\n",
       "  <tbody>\n",
       "    <tr>\n",
       "      <th>0</th>\n",
       "      <td>0.508982</td>\n",
       "      <td>0.441549</td>\n",
       "      <td>0.543815</td>\n",
       "      <td>0.491495</td>\n",
       "    </tr>\n",
       "    <tr>\n",
       "      <th>1</th>\n",
       "      <td>0.497006</td>\n",
       "      <td>0.433854</td>\n",
       "      <td>0.540997</td>\n",
       "      <td>0.513145</td>\n",
       "    </tr>\n",
       "    <tr>\n",
       "      <th>2</th>\n",
       "      <td>0.544411</td>\n",
       "      <td>0.479275</td>\n",
       "      <td>0.593970</td>\n",
       "      <td>0.563144</td>\n",
       "    </tr>\n",
       "    <tr>\n",
       "      <th>3</th>\n",
       "      <td>0.543912</td>\n",
       "      <td>0.504095</td>\n",
       "      <td>0.604114</td>\n",
       "      <td>0.552835</td>\n",
       "    </tr>\n",
       "    <tr>\n",
       "      <th>4</th>\n",
       "      <td>0.538423</td>\n",
       "      <td>0.489203</td>\n",
       "      <td>0.587489</td>\n",
       "      <td>0.576289</td>\n",
       "    </tr>\n",
       "    <tr>\n",
       "      <th>...</th>\n",
       "      <td>...</td>\n",
       "      <td>...</td>\n",
       "      <td>...</td>\n",
       "      <td>...</td>\n",
       "    </tr>\n",
       "    <tr>\n",
       "      <th>138</th>\n",
       "      <td>0.385230</td>\n",
       "      <td>0.330107</td>\n",
       "      <td>0.398422</td>\n",
       "      <td>0.404639</td>\n",
       "    </tr>\n",
       "    <tr>\n",
       "      <th>139</th>\n",
       "      <td>0.414421</td>\n",
       "      <td>0.355920</td>\n",
       "      <td>0.417864</td>\n",
       "      <td>0.401031</td>\n",
       "    </tr>\n",
       "    <tr>\n",
       "      <th>140</th>\n",
       "      <td>0.369261</td>\n",
       "      <td>0.296848</td>\n",
       "      <td>0.338405</td>\n",
       "      <td>0.316495</td>\n",
       "    </tr>\n",
       "    <tr>\n",
       "      <th>141</th>\n",
       "      <td>0.334331</td>\n",
       "      <td>0.252916</td>\n",
       "      <td>0.226543</td>\n",
       "      <td>0.275773</td>\n",
       "    </tr>\n",
       "    <tr>\n",
       "      <th>142</th>\n",
       "      <td>0.329341</td>\n",
       "      <td>0.444527</td>\n",
       "      <td>0.341504</td>\n",
       "      <td>0.521134</td>\n",
       "    </tr>\n",
       "  </tbody>\n",
       "</table>\n",
       "<p>143 rows × 4 columns</p>\n",
       "</div>"
      ],
      "text/plain": [
       "         Open      High       Low     Close\n",
       "0    0.508982  0.441549  0.543815  0.491495\n",
       "1    0.497006  0.433854  0.540997  0.513145\n",
       "2    0.544411  0.479275  0.593970  0.563144\n",
       "3    0.543912  0.504095  0.604114  0.552835\n",
       "4    0.538423  0.489203  0.587489  0.576289\n",
       "..        ...       ...       ...       ...\n",
       "138  0.385230  0.330107  0.398422  0.404639\n",
       "139  0.414421  0.355920  0.417864  0.401031\n",
       "140  0.369261  0.296848  0.338405  0.316495\n",
       "141  0.334331  0.252916  0.226543  0.275773\n",
       "142  0.329341  0.444527  0.341504  0.521134\n",
       "\n",
       "[143 rows x 4 columns]"
      ]
     },
     "execution_count": 12,
     "metadata": {},
     "output_type": "execute_result"
    }
   ],
   "source": [
    "data1"
   ]
  },
  {
   "cell_type": "code",
   "execution_count": 13,
   "id": "cefc0142-5cfe-458e-8117-0d73074a9fc1",
   "metadata": {},
   "outputs": [
    {
     "data": {
      "text/html": [
       "<div>\n",
       "<style scoped>\n",
       "    .dataframe tbody tr th:only-of-type {\n",
       "        vertical-align: middle;\n",
       "    }\n",
       "\n",
       "    .dataframe tbody tr th {\n",
       "        vertical-align: top;\n",
       "    }\n",
       "\n",
       "    .dataframe thead th {\n",
       "        text-align: right;\n",
       "    }\n",
       "</style>\n",
       "<table border=\"1\" class=\"dataframe\">\n",
       "  <thead>\n",
       "    <tr style=\"text-align: right;\">\n",
       "      <th></th>\n",
       "      <th>Model</th>\n",
       "      <th>RMSE</th>\n",
       "      <th>MaPe</th>\n",
       "      <th>Lag</th>\n",
       "      <th>Test</th>\n",
       "    </tr>\n",
       "  </thead>\n",
       "  <tbody>\n",
       "    <tr>\n",
       "      <th>0</th>\n",
       "      <td>[Close, High, Open, Low]</td>\n",
       "      <td>0</td>\n",
       "      <td>1.256465</td>\n",
       "      <td>(2, 0, 1)</td>\n",
       "      <td>28</td>\n",
       "    </tr>\n",
       "  </tbody>\n",
       "</table>\n",
       "</div>"
      ],
      "text/plain": [
       "                      Model  RMSE      MaPe        Lag  Test\n",
       "0  [Close, High, Open, Low]     0  1.256465  (2, 0, 1)    28"
      ]
     },
     "execution_count": 13,
     "metadata": {},
     "output_type": "execute_result"
    }
   ],
   "source": [
    "perf"
   ]
  },
  {
   "cell_type": "code",
   "execution_count": null,
   "id": "54d1c524-d061-40b7-9249-72bb30bd79bb",
   "metadata": {},
   "outputs": [],
   "source": []
  }
 ],
 "metadata": {
  "kernelspec": {
   "display_name": "Python 3 (ipykernel)",
   "language": "python",
   "name": "python3"
  },
  "language_info": {
   "codemirror_mode": {
    "name": "ipython",
    "version": 3
   },
   "file_extension": ".py",
   "mimetype": "text/x-python",
   "name": "python",
   "nbconvert_exporter": "python",
   "pygments_lexer": "ipython3",
   "version": "3.10.0"
  }
 },
 "nbformat": 4,
 "nbformat_minor": 5
}
