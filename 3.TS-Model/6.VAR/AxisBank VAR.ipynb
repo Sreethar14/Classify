{
 "cells": [
  {
   "cell_type": "code",
   "execution_count": 1,
   "id": "68853f7b-4084-4763-bfe3-cdff8ce428f1",
   "metadata": {},
   "outputs": [],
   "source": [
    "import pandas as pd\n",
    "from nsepy import get_history as gh\n",
    "import datetime as dt\n",
    "import yfinance as yf\n",
    "import datetime as dt"
   ]
  },
  {
   "cell_type": "code",
   "execution_count": 2,
   "id": "b6df4176-f542-47fb-84b0-40cffd4dc919",
   "metadata": {},
   "outputs": [
    {
     "name": "stderr",
     "output_type": "stream",
     "text": [
      "[*********************100%%**********************]  1 of 1 completed\n"
     ]
    }
   ],
   "source": [
    "start = dt.datetime(2021, 7, 1)\n",
    "end = dt.datetime(2022, 1, 27)\n",
    "symbol = 'AXISBANK.NS'  # Stock symbol in uppercase\n",
    "\n",
    "stk_data = yf.download(symbol, start=start, end=end)"
   ]
  },
  {
   "cell_type": "code",
   "execution_count": 3,
   "id": "b0bd8a29-7b97-411e-b054-7858c57cf8b4",
   "metadata": {},
   "outputs": [],
   "source": [
    "stk_data=stk_data[[\"Open\",\"High\",\"Low\",\"Close\"]]\n",
    "dataset=stk_data"
   ]
  },
  {
   "cell_type": "code",
   "execution_count": 4,
   "id": "cf9a2f5f-5b12-4eeb-8b22-bf12906aabab",
   "metadata": {},
   "outputs": [
    {
     "data": {
      "text/html": [
       "<div>\n",
       "<style scoped>\n",
       "    .dataframe tbody tr th:only-of-type {\n",
       "        vertical-align: middle;\n",
       "    }\n",
       "\n",
       "    .dataframe tbody tr th {\n",
       "        vertical-align: top;\n",
       "    }\n",
       "\n",
       "    .dataframe thead th {\n",
       "        text-align: right;\n",
       "    }\n",
       "</style>\n",
       "<table border=\"1\" class=\"dataframe\">\n",
       "  <thead>\n",
       "    <tr style=\"text-align: right;\">\n",
       "      <th></th>\n",
       "      <th>Open</th>\n",
       "      <th>High</th>\n",
       "      <th>Low</th>\n",
       "      <th>Close</th>\n",
       "    </tr>\n",
       "    <tr>\n",
       "      <th>Date</th>\n",
       "      <th></th>\n",
       "      <th></th>\n",
       "      <th></th>\n",
       "      <th></th>\n",
       "    </tr>\n",
       "  </thead>\n",
       "  <tbody>\n",
       "    <tr>\n",
       "      <th>2021-07-01</th>\n",
       "      <td>750.000000</td>\n",
       "      <td>754.400024</td>\n",
       "      <td>744.500000</td>\n",
       "      <td>746.450012</td>\n",
       "    </tr>\n",
       "    <tr>\n",
       "      <th>2021-07-02</th>\n",
       "      <td>747.599976</td>\n",
       "      <td>752.849976</td>\n",
       "      <td>744.000000</td>\n",
       "      <td>750.650024</td>\n",
       "    </tr>\n",
       "    <tr>\n",
       "      <th>2021-07-05</th>\n",
       "      <td>757.099976</td>\n",
       "      <td>762.000000</td>\n",
       "      <td>753.400024</td>\n",
       "      <td>760.349976</td>\n",
       "    </tr>\n",
       "    <tr>\n",
       "      <th>2021-07-06</th>\n",
       "      <td>757.000000</td>\n",
       "      <td>767.000000</td>\n",
       "      <td>755.200012</td>\n",
       "      <td>758.349976</td>\n",
       "    </tr>\n",
       "    <tr>\n",
       "      <th>2021-07-07</th>\n",
       "      <td>755.900024</td>\n",
       "      <td>764.000000</td>\n",
       "      <td>752.250000</td>\n",
       "      <td>762.900024</td>\n",
       "    </tr>\n",
       "    <tr>\n",
       "      <th>...</th>\n",
       "      <td>...</td>\n",
       "      <td>...</td>\n",
       "      <td>...</td>\n",
       "      <td>...</td>\n",
       "    </tr>\n",
       "    <tr>\n",
       "      <th>2022-01-19</th>\n",
       "      <td>725.200012</td>\n",
       "      <td>731.950012</td>\n",
       "      <td>718.700012</td>\n",
       "      <td>729.599976</td>\n",
       "    </tr>\n",
       "    <tr>\n",
       "      <th>2022-01-20</th>\n",
       "      <td>731.049988</td>\n",
       "      <td>737.150024</td>\n",
       "      <td>722.150024</td>\n",
       "      <td>728.900024</td>\n",
       "    </tr>\n",
       "    <tr>\n",
       "      <th>2022-01-21</th>\n",
       "      <td>722.000000</td>\n",
       "      <td>725.250000</td>\n",
       "      <td>708.049988</td>\n",
       "      <td>712.500000</td>\n",
       "    </tr>\n",
       "    <tr>\n",
       "      <th>2022-01-24</th>\n",
       "      <td>715.000000</td>\n",
       "      <td>716.400024</td>\n",
       "      <td>688.200012</td>\n",
       "      <td>704.599976</td>\n",
       "    </tr>\n",
       "    <tr>\n",
       "      <th>2022-01-25</th>\n",
       "      <td>714.000000</td>\n",
       "      <td>755.000000</td>\n",
       "      <td>708.599976</td>\n",
       "      <td>752.200012</td>\n",
       "    </tr>\n",
       "  </tbody>\n",
       "</table>\n",
       "<p>143 rows × 4 columns</p>\n",
       "</div>"
      ],
      "text/plain": [
       "                  Open        High         Low       Close\n",
       "Date                                                      \n",
       "2021-07-01  750.000000  754.400024  744.500000  746.450012\n",
       "2021-07-02  747.599976  752.849976  744.000000  750.650024\n",
       "2021-07-05  757.099976  762.000000  753.400024  760.349976\n",
       "2021-07-06  757.000000  767.000000  755.200012  758.349976\n",
       "2021-07-07  755.900024  764.000000  752.250000  762.900024\n",
       "...                ...         ...         ...         ...\n",
       "2022-01-19  725.200012  731.950012  718.700012  729.599976\n",
       "2022-01-20  731.049988  737.150024  722.150024  728.900024\n",
       "2022-01-21  722.000000  725.250000  708.049988  712.500000\n",
       "2022-01-24  715.000000  716.400024  688.200012  704.599976\n",
       "2022-01-25  714.000000  755.000000  708.599976  752.200012\n",
       "\n",
       "[143 rows x 4 columns]"
      ]
     },
     "execution_count": 4,
     "metadata": {},
     "output_type": "execute_result"
    }
   ],
   "source": [
    "dataset"
   ]
  },
  {
   "cell_type": "code",
   "execution_count": 5,
   "id": "40667edc-3e65-4067-acb7-642484a790b4",
   "metadata": {},
   "outputs": [
    {
     "name": "stdout",
     "output_type": "stream",
     "text": [
      "Len: (143, 4)\n"
     ]
    }
   ],
   "source": [
    "from sklearn.preprocessing import MinMaxScaler\n",
    "Ms = MinMaxScaler()\n",
    "data1= Ms.fit_transform(stk_data)\n",
    "print(\"Len:\",data1.shape)"
   ]
  },
  {
   "cell_type": "code",
   "execution_count": 6,
   "id": "1e1622ae-1f43-4ec2-af91-64c36b9f0673",
   "metadata": {},
   "outputs": [],
   "source": [
    "data1=pd.DataFrame(data1,columns=[\"Open\",\"High\",\"Low\",\"Close\"])"
   ]
  },
  {
   "cell_type": "code",
   "execution_count": 7,
   "id": "ae275c43-ff0d-4798-9c96-d0f34fed9fab",
   "metadata": {},
   "outputs": [
    {
     "data": {
      "text/html": [
       "<div>\n",
       "<style scoped>\n",
       "    .dataframe tbody tr th:only-of-type {\n",
       "        vertical-align: middle;\n",
       "    }\n",
       "\n",
       "    .dataframe tbody tr th {\n",
       "        vertical-align: top;\n",
       "    }\n",
       "\n",
       "    .dataframe thead th {\n",
       "        text-align: right;\n",
       "    }\n",
       "</style>\n",
       "<table border=\"1\" class=\"dataframe\">\n",
       "  <thead>\n",
       "    <tr style=\"text-align: right;\">\n",
       "      <th></th>\n",
       "      <th>Open</th>\n",
       "      <th>High</th>\n",
       "      <th>Low</th>\n",
       "      <th>Close</th>\n",
       "    </tr>\n",
       "  </thead>\n",
       "  <tbody>\n",
       "    <tr>\n",
       "      <th>0</th>\n",
       "      <td>0.508982</td>\n",
       "      <td>0.441549</td>\n",
       "      <td>0.543815</td>\n",
       "      <td>0.491495</td>\n",
       "    </tr>\n",
       "    <tr>\n",
       "      <th>1</th>\n",
       "      <td>0.497006</td>\n",
       "      <td>0.433854</td>\n",
       "      <td>0.540997</td>\n",
       "      <td>0.513145</td>\n",
       "    </tr>\n",
       "    <tr>\n",
       "      <th>2</th>\n",
       "      <td>0.544411</td>\n",
       "      <td>0.479275</td>\n",
       "      <td>0.593970</td>\n",
       "      <td>0.563144</td>\n",
       "    </tr>\n",
       "    <tr>\n",
       "      <th>3</th>\n",
       "      <td>0.543912</td>\n",
       "      <td>0.504095</td>\n",
       "      <td>0.604114</td>\n",
       "      <td>0.552835</td>\n",
       "    </tr>\n",
       "    <tr>\n",
       "      <th>4</th>\n",
       "      <td>0.538423</td>\n",
       "      <td>0.489203</td>\n",
       "      <td>0.587489</td>\n",
       "      <td>0.576289</td>\n",
       "    </tr>\n",
       "    <tr>\n",
       "      <th>...</th>\n",
       "      <td>...</td>\n",
       "      <td>...</td>\n",
       "      <td>...</td>\n",
       "      <td>...</td>\n",
       "    </tr>\n",
       "    <tr>\n",
       "      <th>138</th>\n",
       "      <td>0.385230</td>\n",
       "      <td>0.330107</td>\n",
       "      <td>0.398422</td>\n",
       "      <td>0.404639</td>\n",
       "    </tr>\n",
       "    <tr>\n",
       "      <th>139</th>\n",
       "      <td>0.414421</td>\n",
       "      <td>0.355920</td>\n",
       "      <td>0.417864</td>\n",
       "      <td>0.401031</td>\n",
       "    </tr>\n",
       "    <tr>\n",
       "      <th>140</th>\n",
       "      <td>0.369261</td>\n",
       "      <td>0.296848</td>\n",
       "      <td>0.338405</td>\n",
       "      <td>0.316495</td>\n",
       "    </tr>\n",
       "    <tr>\n",
       "      <th>141</th>\n",
       "      <td>0.334331</td>\n",
       "      <td>0.252916</td>\n",
       "      <td>0.226543</td>\n",
       "      <td>0.275773</td>\n",
       "    </tr>\n",
       "    <tr>\n",
       "      <th>142</th>\n",
       "      <td>0.329341</td>\n",
       "      <td>0.444527</td>\n",
       "      <td>0.341504</td>\n",
       "      <td>0.521134</td>\n",
       "    </tr>\n",
       "  </tbody>\n",
       "</table>\n",
       "<p>143 rows × 4 columns</p>\n",
       "</div>"
      ],
      "text/plain": [
       "         Open      High       Low     Close\n",
       "0    0.508982  0.441549  0.543815  0.491495\n",
       "1    0.497006  0.433854  0.540997  0.513145\n",
       "2    0.544411  0.479275  0.593970  0.563144\n",
       "3    0.543912  0.504095  0.604114  0.552835\n",
       "4    0.538423  0.489203  0.587489  0.576289\n",
       "..        ...       ...       ...       ...\n",
       "138  0.385230  0.330107  0.398422  0.404639\n",
       "139  0.414421  0.355920  0.417864  0.401031\n",
       "140  0.369261  0.296848  0.338405  0.316495\n",
       "141  0.334331  0.252916  0.226543  0.275773\n",
       "142  0.329341  0.444527  0.341504  0.521134\n",
       "\n",
       "[143 rows x 4 columns]"
      ]
     },
     "execution_count": 7,
     "metadata": {},
     "output_type": "execute_result"
    }
   ],
   "source": [
    "data1"
   ]
  },
  {
   "cell_type": "code",
   "execution_count": 8,
   "id": "6d3cd0b8-b0ed-48ad-8d1b-320b3d6b324d",
   "metadata": {},
   "outputs": [
    {
     "name": "stdout",
     "output_type": "stream",
     "text": [
      "114\n",
      "X_train length: (114, 4)\n",
      "X_test length: (29, 4)\n",
      "y_train length: (114, 4)\n",
      "y_test length: (29, 4)\n"
     ]
    }
   ],
   "source": [
    "training_size = round(len(data1 ) * 0.80)\n",
    "print(training_size)\n",
    "X_train=data1[:training_size]\n",
    "X_test=data1[training_size:]\n",
    "print(\"X_train length:\",X_train.shape)\n",
    "print(\"X_test length:\",X_test.shape)\n",
    "y_train=data1[:training_size]\n",
    "y_test=data1[training_size:]\n",
    "print(\"y_train length:\",y_train.shape)\n",
    "print(\"y_test length:\",y_test.shape)"
   ]
  },
  {
   "cell_type": "code",
   "execution_count": 9,
   "id": "2383c131-63dc-4aa6-bbf6-024786faa55c",
   "metadata": {},
   "outputs": [],
   "source": [
    "import warnings\n",
    "warnings.filterwarnings(\"ignore\")"
   ]
  },
  {
   "cell_type": "code",
   "execution_count": 10,
   "id": "0cc9fa0d-af21-4255-a5d3-73209a33c273",
   "metadata": {},
   "outputs": [],
   "source": [
    "performance={\"Model\":[],\"RMSE\":[],\"MaPe\":[],\"Lag\":[],\"Test\":[]}"
   ]
  },
  {
   "cell_type": "code",
   "execution_count": 11,
   "id": "3d1ebcfd-1461-422f-9927-fcd98aadbb12",
   "metadata": {},
   "outputs": [],
   "source": [
    "def cominbation(dataset,listt):\n",
    "    print(listt)\n",
    "    datasetTwo=dataset[listt]\n",
    "    test_obs = 28\n",
    "    train =datasetTwo[:-test_obs]\n",
    "    test = datasetTwo[-test_obs:]\n",
    "    from statsmodels.tsa.api import VAR\n",
    "    for i in [1,2,3,4,5,6,7,8,9,10]:\n",
    "        model = VAR(train)\n",
    "        results = model.fit(i)\n",
    "        print('Order =', i)\n",
    "        print('AIC: ', results.aic)\n",
    "        print('BIC: ', results.bic)\n",
    "        print()\n",
    "    x = model.select_order(maxlags=12)\n",
    "    order=x.selected_orders[\"aic\"]\n",
    "    result = model.fit(order)\n",
    "    #result.summary()\n",
    "    lagged_Values = train.values[-order:]\n",
    "    pred = result.forecast(y=lagged_Values,steps=28) \n",
    "    preds=pd.DataFrame(pred,columns=listt)\n",
    "    preds.to_csv(\"varforecasted_{}.csv\".format(test_obs))\n",
    "    from sklearn.metrics import mean_squared_error\n",
    "    rmse= round(mean_squared_error(test,pred,squared=False))\n",
    "    from sklearn.metrics import mean_absolute_percentage_error\n",
    "    mape=mean_absolute_percentage_error(test,pred)\n",
    "    performance[\"Model\"].append(listt)\n",
    "    performance[\"RMSE\"].append(rmse)\n",
    "    performance[\"MaPe\"].append(mape)\n",
    "    performance[\"Lag\"].append(order)\n",
    "    performance[\"Test\"].append(test_obs)\n",
    "    perf=pd.DataFrame(performance)\n",
    "    return perf,result,pred"
   ]
  },
  {
   "cell_type": "code",
   "execution_count": 12,
   "id": "f967306b-9a4e-47b5-bd2d-c62bed3527a4",
   "metadata": {},
   "outputs": [],
   "source": [
    "listt=[\"Close\",\"High\",\"Open\",\"Low\"]\n",
    "#listt=[\"AQI_calculated\",\"PM10\",\"PM2.5\",\"NOx\",\"NO2\",\"NO\",\"NH3\",\"SO2\",\"CO\",'year']"
   ]
  },
  {
   "cell_type": "code",
   "execution_count": 13,
   "id": "1a71babd-5ea3-410d-a7cf-9907b289e86e",
   "metadata": {},
   "outputs": [
    {
     "name": "stdout",
     "output_type": "stream",
     "text": [
      "['Close', 'High', 'Open', 'Low']\n",
      "Order = 1\n",
      "AIC:  -28.07729387912183\n",
      "BIC:  -27.597259063614022\n",
      "\n",
      "Order = 2\n",
      "AIC:  -28.205346860941304\n",
      "BIC:  -27.336444547015248\n",
      "\n",
      "Order = 3\n",
      "AIC:  -28.039955787578776\n",
      "BIC:  -26.777795597334624\n",
      "\n",
      "Order = 4\n",
      "AIC:  -27.85286676152596\n",
      "BIC:  -26.192974385947235\n",
      "\n",
      "Order = 5\n",
      "AIC:  -27.68329024923676\n",
      "BIC:  -25.621105242631643\n",
      "\n",
      "Order = 6\n",
      "AIC:  -27.571034319145944\n",
      "BIC:  -25.101907821688016\n",
      "\n",
      "Order = 7\n",
      "AIC:  -27.472116161730515\n",
      "BIC:  -24.59130854741191\n",
      "\n",
      "Order = 8\n",
      "AIC:  -27.593825360225555\n",
      "BIC:  -24.296503807431428\n",
      "\n",
      "Order = 9\n",
      "AIC:  -27.458850227430602\n",
      "BIC:  -23.740086209236395\n",
      "\n",
      "Order = 10\n",
      "AIC:  -27.329595305452052\n",
      "BIC:  -23.184361996634586\n",
      "\n"
     ]
    }
   ],
   "source": [
    "perf,result,pred=cominbation(data1,listt)"
   ]
  },
  {
   "cell_type": "code",
   "execution_count": 14,
   "id": "6036e8ac-c620-4ac8-b567-78541109184f",
   "metadata": {},
   "outputs": [
    {
     "data": {
      "text/html": [
       "<div>\n",
       "<style scoped>\n",
       "    .dataframe tbody tr th:only-of-type {\n",
       "        vertical-align: middle;\n",
       "    }\n",
       "\n",
       "    .dataframe tbody tr th {\n",
       "        vertical-align: top;\n",
       "    }\n",
       "\n",
       "    .dataframe thead th {\n",
       "        text-align: right;\n",
       "    }\n",
       "</style>\n",
       "<table border=\"1\" class=\"dataframe\">\n",
       "  <thead>\n",
       "    <tr style=\"text-align: right;\">\n",
       "      <th></th>\n",
       "      <th>Model</th>\n",
       "      <th>RMSE</th>\n",
       "      <th>MaPe</th>\n",
       "      <th>Lag</th>\n",
       "      <th>Test</th>\n",
       "    </tr>\n",
       "  </thead>\n",
       "  <tbody>\n",
       "    <tr>\n",
       "      <th>0</th>\n",
       "      <td>[Close, High, Open, Low]</td>\n",
       "      <td>0</td>\n",
       "      <td>1.172438</td>\n",
       "      <td>2</td>\n",
       "      <td>28</td>\n",
       "    </tr>\n",
       "  </tbody>\n",
       "</table>\n",
       "</div>"
      ],
      "text/plain": [
       "                      Model  RMSE      MaPe  Lag  Test\n",
       "0  [Close, High, Open, Low]     0  1.172438    2    28"
      ]
     },
     "execution_count": 14,
     "metadata": {},
     "output_type": "execute_result"
    }
   ],
   "source": [
    "perf"
   ]
  },
  {
   "cell_type": "code",
   "execution_count": null,
   "id": "b7737f06-c365-470c-93fd-dd828d82ff55",
   "metadata": {},
   "outputs": [],
   "source": []
  }
 ],
 "metadata": {
  "kernelspec": {
   "display_name": "Python 3 (ipykernel)",
   "language": "python",
   "name": "python3"
  },
  "language_info": {
   "codemirror_mode": {
    "name": "ipython",
    "version": 3
   },
   "file_extension": ".py",
   "mimetype": "text/x-python",
   "name": "python",
   "nbconvert_exporter": "python",
   "pygments_lexer": "ipython3",
   "version": "3.10.0"
  }
 },
 "nbformat": 4,
 "nbformat_minor": 5
}
